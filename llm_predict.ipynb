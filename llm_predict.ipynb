{
 "cells": [
  {
   "cell_type": "code",
   "execution_count": 1,
   "metadata": {},
   "outputs": [
    {
     "name": "stdout",
     "output_type": "stream",
     "text": [
      "Note: you may need to restart the kernel to use updated packages.\n"
     ]
    }
   ],
   "source": [
    "%pip install -qU pandas langchain langchain_core langchain-openai matplotlib scikit-learn\n"
   ]
  },
  {
   "cell_type": "code",
   "execution_count": 2,
   "metadata": {},
   "outputs": [
    {
     "data": {
      "text/html": [
       "<div>\n",
       "<style scoped>\n",
       "    .dataframe tbody tr th:only-of-type {\n",
       "        vertical-align: middle;\n",
       "    }\n",
       "\n",
       "    .dataframe tbody tr th {\n",
       "        vertical-align: top;\n",
       "    }\n",
       "\n",
       "    .dataframe thead th {\n",
       "        text-align: right;\n",
       "    }\n",
       "</style>\n",
       "<table border=\"1\" class=\"dataframe\">\n",
       "  <thead>\n",
       "    <tr style=\"text-align: right;\">\n",
       "      <th></th>\n",
       "      <th>post</th>\n",
       "      <th>tags</th>\n",
       "    </tr>\n",
       "  </thead>\n",
       "  <tbody>\n",
       "    <tr>\n",
       "      <th>0</th>\n",
       "      <td>what is causing this behavior  in our c# datet...</td>\n",
       "      <td>c#</td>\n",
       "    </tr>\n",
       "    <tr>\n",
       "      <th>1</th>\n",
       "      <td>have dynamic html load as if it was in an ifra...</td>\n",
       "      <td>asp.net</td>\n",
       "    </tr>\n",
       "    <tr>\n",
       "      <th>2</th>\n",
       "      <td>how to convert a float value in to min:sec  i ...</td>\n",
       "      <td>objective-c</td>\n",
       "    </tr>\n",
       "    <tr>\n",
       "      <th>3</th>\n",
       "      <td>.net framework 4 redistributable  just wonderi...</td>\n",
       "      <td>.net</td>\n",
       "    </tr>\n",
       "    <tr>\n",
       "      <th>4</th>\n",
       "      <td>trying to calculate and print the mean and its...</td>\n",
       "      <td>python</td>\n",
       "    </tr>\n",
       "    <tr>\n",
       "      <th>5</th>\n",
       "      <td>how to give alias name for my website  i have ...</td>\n",
       "      <td>asp.net</td>\n",
       "    </tr>\n",
       "    <tr>\n",
       "      <th>6</th>\n",
       "      <td>window.open() returns null in angularjs  it wo...</td>\n",
       "      <td>angularjs</td>\n",
       "    </tr>\n",
       "    <tr>\n",
       "      <th>7</th>\n",
       "      <td>identifying server timeout quickly in iphone  ...</td>\n",
       "      <td>iphone</td>\n",
       "    </tr>\n",
       "    <tr>\n",
       "      <th>8</th>\n",
       "      <td>unknown method key  error in rails 2.3.8 unit ...</td>\n",
       "      <td>ruby-on-rails</td>\n",
       "    </tr>\n",
       "    <tr>\n",
       "      <th>9</th>\n",
       "      <td>from the include  how to show and hide the con...</td>\n",
       "      <td>angularjs</td>\n",
       "    </tr>\n",
       "  </tbody>\n",
       "</table>\n",
       "</div>"
      ],
      "text/plain": [
       "                                                post           tags\n",
       "0  what is causing this behavior  in our c# datet...             c#\n",
       "1  have dynamic html load as if it was in an ifra...        asp.net\n",
       "2  how to convert a float value in to min:sec  i ...    objective-c\n",
       "3  .net framework 4 redistributable  just wonderi...           .net\n",
       "4  trying to calculate and print the mean and its...         python\n",
       "5  how to give alias name for my website  i have ...        asp.net\n",
       "6  window.open() returns null in angularjs  it wo...      angularjs\n",
       "7  identifying server timeout quickly in iphone  ...         iphone\n",
       "8  unknown method key  error in rails 2.3.8 unit ...  ruby-on-rails\n",
       "9  from the include  how to show and hide the con...      angularjs"
      ]
     },
     "execution_count": 2,
     "metadata": {},
     "output_type": "execute_result"
    }
   ],
   "source": [
    "# read data in stack-overflow-data.csv\n",
    "\n",
    "import pandas as pd\n",
    "\n",
    "df = pd.read_csv('stack-overflow-data.csv')\n",
    "\n",
    "df.head(10)\n"
   ]
  },
  {
   "cell_type": "code",
   "execution_count": 3,
   "metadata": {},
   "outputs": [],
   "source": [
    "# Truncate the posts to 5000 characters\n",
    "\n",
    "LENGTH_LIMIT = 5000\n",
    "\n",
    "df[\"post\"] = df[\"post\"].str[:LENGTH_LIMIT]\n"
   ]
  },
  {
   "cell_type": "code",
   "execution_count": 4,
   "metadata": {},
   "outputs": [
    {
     "data": {
      "image/png": "[encoded data removed]",
      "text/plain": [
       "<Figure size 640x480 with 1 Axes>"
      ]
     },
     "metadata": {},
     "output_type": "display_data"
    }
   ],
   "source": [
    "import matplotlib.pyplot as plt\n",
    "\n",
    "post_lengths = [len(post) for post in df[\"post\"].tolist()]\n",
    "\n",
    "plt.hist(post_lengths, bins=200)\n",
    "plt.title('Distribution of Post Lengths')\n",
    "plt.xlabel('Length (in characters)')\n",
    "plt.ylabel('Count')\n",
    "plt.show()\n"
   ]
  },
  {
   "cell_type": "code",
   "execution_count": 5,
   "metadata": {},
   "outputs": [
    {
     "name": "stdout",
     "output_type": "stream",
     "text": [
      "There are 20 unique tags in the dataset.\n",
      "['c#', 'asp.net', 'objective-c', '.net', 'python', 'angularjs', 'iphone', 'ruby-on-rails', 'ios', 'c', 'sql', 'java', 'jquery', 'css', 'c++', 'php', 'android', 'mysql', 'javascript', 'html']\n"
     ]
    },
    {
     "data": {
      "image/png": "[encoded data removed]",
      "text/plain": [
       "<Figure size 1000x600 with 1 Axes>"
      ]
     },
     "metadata": {},
     "output_type": "display_data"
    }
   ],
   "source": [
    "TAGS = list(df['tags'].unique())\n",
    "\n",
    "print(f\"There are {len(TAGS)} unique tags in the dataset.\")\n",
    "# show them\n",
    "print(TAGS)\n",
    "\n",
    "plt.figure(figsize=(10, 6))\n",
    "plt.pie(df['tags'].value_counts(), labels=df['tags'].unique(), autopct='%1.1f%%', startangle=140)\n",
    "plt.title('Distribution of Tags')\n",
    "plt.show()\n"
   ]
  },
  {
   "cell_type": "markdown",
   "metadata": {},
   "source": [
    "# LLM for prediction\n",
    "\n",
    "In this section, I want to use an LLM to predict the tag of a post, by first showing it many examples with the correct tag."
   ]
  },
  {
   "cell_type": "code",
   "execution_count": 6,
   "metadata": {},
   "outputs": [
    {
     "name": "stdout",
     "output_type": "stream",
     "text": [
      "There are 30000 training examples and 10000 testing examples.\n"
     ]
    }
   ],
   "source": [
    "from sklearn.model_selection import train_test_split\n",
    "\n",
    "TEST_SIZE = 0.25\n",
    "\n",
    "df_train, df_test = train_test_split(df, test_size=TEST_SIZE, random_state=42)\n",
    "\n",
    "print(f\"There are {len(df_train)} training examples and {len(df_test)} testing examples.\")\n"
   ]
  },
  {
   "cell_type": "markdown",
   "metadata": {},
   "source": [
    "## Simple LLM prediction\n"
   ]
  },
  {
   "cell_type": "code",
   "execution_count": 7,
   "metadata": {},
   "outputs": [],
   "source": [
    "from langchain_openai import ChatOpenAI\n",
    "\n",
    "gpt4o_mini = ChatOpenAI(model=\"gpt-4o-mini\", temperature=0).with_retry(\n",
    "    wait_exponential_jitter=True, # Add jitter to the exponential backoff\n",
    "    stop_after_attempt=10,\n",
    ")"
   ]
  },
  {
   "cell_type": "markdown",
   "metadata": {},
   "source": [
    "\n",
    "### Read the examples from the file"
   ]
  },
  {
   "cell_type": "code",
   "execution_count": 22,
   "metadata": {},
   "outputs": [
    {
     "data": {
      "text/plain": [
       "[('how to maintain the width of drop down list   i have used two drop down lists.    <ol> <li>the 1st drop down list contains 2 values </li> <li>the 2nd drop down list contains 3 values.</li> </ol>   when i select the <code>1st value</code> of the 1st <code>dropdownlist</code> the 2nd <code>dropdownlist</code> gets <code>disabled</code>.    but the problem is  at the time of getting disabled the width of the disabled <code>dropdownlost</code> increases and i do not want that.    can any one please help me out',\n",
       "  'asp.net'),\n",
       " ('removing the status bar in my app  i m making an small game for iphone in opengl.    first i removed the  status bar  by writting    <pre><code>[[uiapplication sharedapplication] setstatusbarhidden:yes]; </code></pre>   which worked  but only removed the status bar when my app began to run. then i modified my project.plist   <pre><code>&lt;key&gt;uistatusbarhidden&lt;/key&gt; &lt;true/&gt; </code></pre>   and now the status bar is never show  just how i wanted. the problem is that i m reading touches without problem in any portion of the screen  except for the zone where the status bar used to be.   <pre><code>// this method deals with events when one or more fingers touch the screen - (void)touchesbegan:(nsset *)touches withevent:(uievent *)event {     [myproject newtouch:touches withevent:event];        [self.nextresponder touchesended: touches withevent:event]; }  // this method deals with events when one or more fingers moves while touching the screen - (void)touchesmoved:(nsset *)touches withevent:(uievent *)event {     [myproject movingtouch:touches withevent:event  ]; }  // this method deals with events when one or more fingers stops touching the screen - (void)touchesended:(nsset *)touches withevent:(uievent *)event {     [myproject oldtouchended:touches withevent:event  ]; }  // this method deals with events when the system is interrupted ( for example an incomming call) - (void)touchescancelled:(nsset *)touches withevent:(uievent *)event {     //  } </code></pre>   i guess that hiding the bar is not enough and it must be removed  but how can i do it    or there is another solution',\n",
       "  'iphone'),\n",
       " ('border to uiimage  is it possible to give border to <code>uiimage</code> instead of <code>uiimageview</code>',\n",
       "  'iphone')]"
      ]
     },
     "execution_count": 22,
     "metadata": {},
     "output_type": "execute_result"
    }
   ],
   "source": [
    "import json\n",
    "\n",
    "def read_examples(file_path: str) -> list[tuple[str, str]]:\n",
    "    examples = []\n",
    "    with open(file_path, \"r\") as f:\n",
    "        for line in f:\n",
    "            data = json.loads(line)\n",
    "            post = data[\"post\"][:5000]\n",
    "            tag = data[\"tag\"]\n",
    "            examples.append((post, tag))\n",
    "\n",
    "    assert len(set(post for post, _ in examples)) == len(examples)\n",
    "\n",
    "    return examples\n",
    "\n",
    "training_examples = read_examples(\"training_examples.jsonl\")\n",
    "\n",
    "training_examples[:3]\n"
   ]
  },
  {
   "cell_type": "code",
   "execution_count": 23,
   "metadata": {},
   "outputs": [
    {
     "name": "stdout",
     "output_type": "stream",
     "text": [
      "<post>how to maintain the width of drop down list   i have used two drop down lists.    <ol> <li>the 1st drop down list contains 2 values </li> <li>the 2nd drop down list contains 3 values.</li> </ol>   when i select the <code>1st value</code> of the 1st <code>dropdownlist</code> the 2nd <code>dropdownlist</code> gets <code>disabled</code>.    but the problem is  at the time of getting disabled the width of the disabled <code>dropdownlost</code> increases and i do not want that.    can any one please help me out</post>\n",
      "<tag>asp.net</tag>\n",
      "\n",
      "<post>removing the status bar in my app  i m making an small game for iphone in opengl.    first i removed the  status bar  by writting    <pre><code>[[uiapplication sharedapplication] setstatusbarhidden:yes]; </code></pre>   which worked  but only removed the status bar when my app began to run. then i modified my project.plist   <pre><code>&lt;key&gt;uistatusbarhidden&lt;/key&gt; &lt;true/&gt; </code></pre>   and now the status bar is never show  just how i wanted. the problem is that i m reading touches without problem in any portion of the screen  except for the zone where the status bar used to be.   <pre><code>// this method deals with events when one or more fingers touch the screen - (void)touchesbegan:(nsset *)touches withevent:(uievent *)event {     [myproject newtouch:touches withevent:event];        [self.nextresponder touchesended: touches withevent:event]; }  // this method deals with events when one or more fingers moves while touching the screen - (void)touchesmoved:(nsset *)touches withevent:(uievent *)event {     [myproject movingtouch:touches withevent:event  ]; }  // this method deals with events when one or more fingers stops touching the screen - (void)touchesended:(nsset *)touches withevent:(uievent *)event {     [myproject oldtouchended:touches withevent:event  ]; }  // this method deals with events when the system is interrupted ( for example an incomming call) - (void)touchescancelled:(nsset *)touches withevent:(uievent *)event {     //  } </code></pre>   i guess that hiding the bar is not enough and it must be removed  but how can i do it    or there is another solution</post>\n",
      "<tag>iphone</tag>\n",
      "\n",
      "<post>border to uiimage  is it possible to give border to <code>uiimage</code> instead of <code>uiimageview</code></post>\n",
      "<tag>iphone</tag>\n",
      "\n",
      "\n"
     ]
    }
   ],
   "source": [
    "def format_examples(posts : list[str], tags : list[str]) -> str:\n",
    "    assert len(posts) == len(tags)\n",
    "    examples = \"\"\n",
    "    for post, tag in zip(posts, tags):\n",
    "        examples += f\"<post>{post}</post>\\n<tag>{tag}</tag>\\n\\n\"\n",
    "    return examples\n",
    "\n",
    "# show example with 3 posts\n",
    "\n",
    "print(format_examples(*zip(*training_examples[:3])))\n"
   ]
  },
  {
   "cell_type": "code",
   "execution_count": 24,
   "metadata": {},
   "outputs": [
    {
     "data": {
      "text/plain": [
       "'python'"
      ]
     },
     "execution_count": 24,
     "metadata": {},
     "output_type": "execute_result"
    }
   ],
   "source": [
    "from langchain_core.runnables import Runnable, RunnablePassthrough\n",
    "from difflib import SequenceMatcher\n",
    "from langchain_core.output_parsers import StrOutputParser\n",
    "from langchain_core.prompts import ChatPromptTemplate\n",
    "from langchain_core.runnables import RunnableLambda, RunnableParallel\n",
    "\n",
    "template = \"\"\"Here are stack overflow posts and their tags.\n",
    "\n",
    "{examples}\n",
    "\n",
    "Given a new post, determine which tag best describes it.\n",
    "\n",
    "Available tags: {tags}\n",
    "\n",
    "Post: \n",
    "\n",
    "<post>\n",
    "{post}\n",
    "</post>\n",
    "\n",
    "Answer with the tag only, no explanation.\n",
    "\n",
    "Tag:\n",
    "\"\"\"\n",
    "\n",
    "PROMPT = ChatPromptTemplate.from_template(template)\n",
    "\n",
    "\n",
    "def create_prompt_chain(examples: list[tuple[str, str]]):\n",
    "    return RunnableParallel(\n",
    "        post=RunnablePassthrough(),\n",
    "        examples=RunnableLambda(\n",
    "            lambda _: format_examples(*zip(*examples))\n",
    "        ),\n",
    "        tags=RunnableLambda(lambda _: TAGS),\n",
    "    )\n",
    "\n",
    "def fuzzy_output_parser(output: str) -> str:\n",
    "    if output.lower() in [tag.lower() for tag in TAGS]:\n",
    "        return output\n",
    "\n",
    "    # return the closest tag using a package for similarity\n",
    "    return max(TAGS, key=lambda x: SequenceMatcher(None, x, output).ratio())\n",
    "\n",
    "chain = create_prompt_chain(training_examples) | PROMPT | gpt4o_mini | StrOutputParser() | RunnableLambda(fuzzy_output_parser)\n",
    "\n",
    "chain.invoke(\"How do I install a package in python?\")\n"
   ]
  },
  {
   "cell_type": "code",
   "execution_count": 25,
   "metadata": {},
   "outputs": [
    {
     "name": "stdout",
     "output_type": "stream",
     "text": [
      "Note: you may need to restart the kernel to use updated packages.\n"
     ]
    }
   ],
   "source": [
    "%pip install -qU langchain-community\n",
    "from langchain_community.callbacks import get_openai_callback\n"
   ]
  },
  {
   "cell_type": "code",
   "execution_count": 26,
   "metadata": {},
   "outputs": [
    {
     "name": "stdout",
     "output_type": "stream",
     "text": [
      "Total Tokens: 55492\n",
      "Prompt Tokens: 55484\n",
      "Completion Tokens: 8\n",
      "Total Cost (USD): $0.008327399999999999\n",
      "['angularjs', 'sql', 'python', 'c++', 'angularjs']\n"
     ]
    }
   ],
   "source": [
    "import random\n",
    "\n",
    "N_PREDICTIONS = 5\n",
    "SEED = 42\n",
    "\n",
    "# take at random instead\n",
    "random_indices = random.Random(SEED).sample(range(len(df_test)), N_PREDICTIONS)\n",
    "posts_to_predict = df_test[\"post\"].iloc[random_indices].tolist()\n",
    "tags_to_predict = df_test[\"tags\"].iloc[random_indices].tolist()\n",
    "\n",
    "with get_openai_callback() as cb:\n",
    "    predictions = chain.batch(posts_to_predict)\n",
    "\n",
    "    print(f\"Total Tokens: {cb.total_tokens}\")\n",
    "    print(f\"Prompt Tokens: {cb.prompt_tokens}\")\n",
    "    print(f\"Completion Tokens: {cb.completion_tokens}\")\n",
    "    print(f\"Total Cost (USD): ${cb.total_cost}\")\n",
    "\n",
    "\n",
    "print(predictions)\n"
   ]
  },
  {
   "cell_type": "code",
   "execution_count": 27,
   "metadata": {},
   "outputs": [],
   "source": [
    "# test with a single example\n",
    "# 250 calls = $0.02\n",
    "# for 10 000 calls =  $0.8\n",
    "\n",
    "# test with 45 examples : $0.008327399\n",
    "# for 10 000 calls = $1.85"
   ]
  },
  {
   "cell_type": "markdown",
   "metadata": {},
   "source": [
    "### Compute the accuracy"
   ]
  },
  {
   "cell_type": "code",
   "execution_count": 21,
   "metadata": {},
   "outputs": [
    {
     "name": "stdout",
     "output_type": "stream",
     "text": [
      "226/250 = 0.904\n"
     ]
    }
   ],
   "source": [
    "correct = sum(1 for prediction, tag in zip(predictions, tags_to_predict) if prediction == tag)\n",
    "\n",
    "print(f\"{correct}/{N_PREDICTIONS} = {correct / N_PREDICTIONS}\")"
   ]
  },
  {
   "cell_type": "markdown",
   "metadata": {},
   "source": [
    "\n",
    "### See the mistakes"
   ]
  },
  {
   "cell_type": "code",
   "execution_count": 13,
   "metadata": {},
   "outputs": [
    {
     "name": "stdout",
     "output_type": "stream",
     "text": [
      "Post: how to reduce the space between two words. my jsp looks like this sortby: date.i want to reduce the space between sortby: date  how can we reduce the space between the word in ui page.    i have multiple words and all are in the random location.i want to place those words properly\n",
      "\n",
      "Prediction: 'html'\n",
      "Tag:        'css'\n",
      "\n",
      "--------------------------------------------------\n",
      "\n",
      "\n",
      "Post: auto increment the alphanumeric characters id  i want to auto increment the alphanumeric character s id and i want to savi it in to my database.    for example:   <pre><code>example-001 example-002 example-003 example-004 example-005 </code></pre>\n",
      "\n",
      "Prediction: 'sql'\n",
      "Tag:        'php'\n",
      "\n",
      "--------------------------------------------------\n",
      "\n",
      "\n",
      "Post: update server database from localhost  i am using codeigniter  php and mysql  for project management we use svn  from which we can update and commit project  and it reflects on the server automatically  but if i made any change in localhost database  i have to update it on server database manually. i am wondering if there is any tool or method to update the server database automatically from localhost  like svn commit.\n",
      "\n",
      "Prediction: 'php'\n",
      "Tag:        'mysql'\n",
      "\n",
      "--------------------------------------------------\n",
      "\n",
      "\n",
      "Post: could not load file or assembly crystaldecisions.crystalreports.engine  version=10.0.3300.0  could not load file or assembly crystaldecisions.crystalreports.engine  version=10.0.3300.0\n",
      "\n",
      "Prediction: '.net'\n",
      "Tag:        'c#'\n",
      "\n",
      "--------------------------------------------------\n",
      "\n",
      "\n",
      "Post: using an if() based on a query result  i m trying  to use an if() is mysql where the structure looks something like this:   <pre><code>if( phone_number like  %992%  (select phone_number from db.phonebook where country= uk )  select xxx from xxx where xxx  select xxx from xxx where xxx ) </code></pre>   i m trying to achieve:   <pre><code>if   (if you manage to find a phone number in the  uk  phonebook that looks like  992 )  then (run the following xxx query)  else (run the following yyy query) </code></pre>   this doesn t work  the syntax is obviously wrong. would appreciate you advice.\n",
      "\n",
      "Prediction: 'sql'\n",
      "Tag:        'mysql'\n",
      "\n",
      "--------------------------------------------------\n",
      "\n",
      "\n",
      "Post: needs right div on top  hello i cant get the div on the right to be on top just like the div on the left: <a href= http://katastar.free.fr/document1.php  rel= nofollow >http://katastar.free.fr/document1.php</a> thanks\n",
      "\n",
      "Prediction: 'html'\n",
      "Tag:        'css'\n",
      "\n",
      "--------------------------------------------------\n",
      "\n",
      "\n",
      "Post: what is the difference between $   this and $(this) in javascript fundamentals   what is the difference between <strong>$   this and $(this)</strong> in javascript fundamentals      also i want to know about their usage\n",
      "\n",
      "Prediction: 'javascript'\n",
      "Tag:        'jquery'\n",
      "\n",
      "--------------------------------------------------\n",
      "\n",
      "\n",
      "Post: date time format issue  how can i convert dd/mm/yyyy (time is not here) date format to dd-mm-yyyy format.  please make sure i have only dd/mm/yyyy it includes no time and i want to convert it to dd-mm-yyyy format. please help.\n",
      "\n",
      "Prediction: 'php'\n",
      "Tag:        '.net'\n",
      "\n",
      "--------------------------------------------------\n",
      "\n",
      "\n",
      "Post: how to ship applications with some preferences set to a set value  i have one preference in my application that i want my app to be  shipped  with  how do i do this      thanks in advance.\n",
      "\n",
      "Prediction: 'ios'\n",
      "Tag:        'iphone'\n",
      "\n",
      "--------------------------------------------------\n",
      "\n",
      "\n",
      "Post: how to fix style in ie for dropdown list   i have this dropdown list but problem is when i run it in ie it goes up and down if i select something from bottom or middle.how can fix so that it expand it always bellow: <a href= https://jsfiddle.net/tq1bhfno/  rel= nofollow >https://jsfiddle.net/tq1bhfno/</a> (you need to run it in ie)   <pre><code>&lt;div class= col-lg-2 col-md-2 &gt;      &lt;div class= select-wrapper &gt;         &lt;select name= gametype  id= gametype  ng-model= selectgametype &gt;           &lt;option&gt;test1&lt;/option&gt;           &lt;option&gt;test2&lt;/option&gt;           &lt;option&gt;test3&lt;/option&gt;            &lt;option&gt;test4&lt;/option&gt;           &lt;option&gt;test5&lt;/option&gt;           &lt;option&gt;test6&lt;/option&gt;           &lt;option&gt;test7&lt;/option&gt;           &lt;/select&gt;     &lt;/div&gt; &lt;/div&gt; </code></pre>\n",
      "\n",
      "Prediction: 'html'\n",
      "Tag:        'css'\n",
      "\n",
      "--------------------------------------------------\n",
      "\n",
      "\n",
      "Post: why is arc4random returning outlandish values   i am calling arc4random in a function in my ios application to generate random values from -5 to 6.   <pre><code>double num; for (int i = 0; i &lt; 3; i++) {     num = (arc4random() % 11) - 5;     nslog(@ %0.0f   num); } </code></pre>   i get the following output from console.   <pre><code>2012-05-01 20:25:41.120 project32[8331:fb03] 0 2012-05-01 20:25:41.121 project32[8331:fb03] 1 2012-05-01 20:25:41.122 project32[8331:fb03] 4294967295 </code></pre>   0 and 1 are values within range  but wowww  where did 4294967295 come from     changing <code>arc4random()</code> to <code>rand()</code> fixes the problem  but <code>rand()</code>  of course  requires seeding.\n",
      "\n",
      "Prediction: 'ios'\n",
      "Tag:        'objective-c'\n",
      "\n",
      "--------------------------------------------------\n",
      "\n",
      "\n",
      "Post: trigger with 2 tables after update  i have a table  usage  with the following structure:   <pre><code>job | start time | end time | session </code></pre>   and i have another table  sessions  with the following structure to keep track of sessions:   <pre><code>session label | start time | end time </code></pre>   i want to have a trigger such that when there is an entry in the first table  the trigger will check the start time and end time of other table. if there is a label already that exists  the session column of the first table needs to be updated with the session label  otherwise a new entry should be added to the second table and the corresponding label should be entered into the session column of second table. i have never worked with sql triggers before and have no idea how to achieve this.    i tried:   <pre><code>create trigger test after insert on `usage` for each row when (select right(`usage`.starttime 5) != select right(`sessions`.starttime 5)) begin     set `usage`.sessionlabel = `a` end; </code></pre>   logic:   <pre><code>for(newrecordinusagetable) { //check if same starttime exists in any record of session table if(true) { //do nothing } else { //add the new starttime to the session table } </code></pre>   ps : do not bother about the endtime or label.\n",
      "\n",
      "Prediction: 'sql'\n",
      "Tag:        'mysql'\n",
      "\n",
      "--------------------------------------------------\n",
      "\n",
      "\n",
      "Post: programmatically discover the name of the .dmg  say i have a .dmg i click it to open it there s an app inside. i run the app (which i develop)    is there a programatic way for the executable to find out the name of the .dmg it s running from at runtime (if any)  perhaps a  get full path  which will include the name of that dmg  there are certain keywords on that .dmg name that may exist and if they do  i need to act upon them.\n",
      "\n",
      "Prediction: 'ios'\n",
      "Tag:        'objective-c'\n",
      "\n",
      "--------------------------------------------------\n",
      "\n",
      "\n",
      "Post: can t access tabbarcontroller from imageview  i have an app that has a navigation controller in a tabbar controller. the root for the navigation controller is a table view controller. the table view has a segue to an image view. i want to update the badge value on a tab from the image view controller. from the tabbar controller  this works fine:   <pre><code>uiviewcontroller *viewcontroller = [self.tabbarcontroller.viewcontrollers objectatindex:1]; viewcontroller.tabbaritem.badgevalue = @ x ; </code></pre>   but when i put the same code into the imageview controller  it doesn t work. when i check the value of  viewcontroller  after it executes  the value is nil. same for self.tabbarcontroller. for some reason the image view controller can t see its tabbarcontroller.\n",
      "\n",
      "Prediction: 'iphone'\n",
      "Tag:        'ios'\n",
      "\n",
      "--------------------------------------------------\n",
      "\n",
      "\n",
      "Post: create modern website that loads content without refresh  i m trying to find useful tutorials about how to create modern websites that loads content without refreshing the page.    i have tried all kinds of words in google  but i don t get any useful hits. perhaps it s because i m not sure what i should be searching for.    tips and links to tutorials would be appreciated!     thanks!\n",
      "\n",
      "Prediction: 'javascript'\n",
      "Tag:        'html'\n",
      "\n",
      "--------------------------------------------------\n",
      "\n",
      "\n",
      "Post: setting the value of an input with type file  so i have this code:   <pre><code>&lt;input type= file &gt; </code></pre>   i want to be able to set what the file is. i understand that this is not possible to set files that are stored on the user s computer. but i am trying to submit a file that is stored on the internet to a server-side script. so for my purposes  <strong>is there a way to set what file is in the input if the file is stored online rather than on the user s computer </strong> if not  <strong>how can i read an online file with javascript </strong> or <strong>how can i submit an online file to a server-side script so that i can read it </strong>\n",
      "\n",
      "Prediction: 'javascript'\n",
      "Tag:        'html'\n",
      "\n",
      "--------------------------------------------------\n",
      "\n",
      "\n",
      "Post: change image of uibutton in uitableview cell dynamically  i add <code>uibutton</code> in the cell dynamically and change <code>uibutton</code> image on click of <code>uibarbuttonitem</code> how i can change     <pre><code>- (uitableviewcell *)tableview:(uitableview *)tableview cellforrowatindexpath:(nsindexpath *)indexpath {     cell = [[uitableviewcell alloc] initwithstyle:uitableviewcellstylesubtitle reuseidentifier:@ display ] ;      [cell.textlabel settext:[nsstring stringwithformat:@ %@   [arritemlist objectatindex:indexpath.row]]];      uibutton *btncheck = [uibutton buttonwithtype:uibuttontyperoundedrect];     btncheck.frame = cgrectmake(6.0f  2.0f  32.0f  25.0f);     [btncheck settitle:@   forstate:uicontrolstatenormal];      [btncheck addtarget:self action:nil forcontrolevents:uicontroleventtouchupinside];     [cell addsubview:btncheck];       return cell; } //here ibaction for bar button item //when ever user click on barbutton then set the image of all btncheck -(ibaction)bbtncheck:(id)sender { } </code></pre>\n",
      "\n",
      "Prediction: 'ios'\n",
      "Tag:        'iphone'\n",
      "\n",
      "--------------------------------------------------\n",
      "\n",
      "\n",
      "Post: how to create or remove objects in a dynamic fashion <pre><code>users (id  name  ...) user_emails (id  user_id  email  email_type)  email_type is either work | home </code></pre>   user has multiple email objects (home  work). i want to add or remove emails when the user selects the add or remove buttons. this needs to be done in a dynamic fashion. how would i go about creating my form so that new objects can be created or existing email objects can be removed.\n",
      "\n",
      "Prediction: 'html'\n",
      "Tag:        'ruby-on-rails'\n",
      "\n",
      "--------------------------------------------------\n",
      "\n",
      "\n",
      "Post: programatically add a *my network place* shortcut to sharepoint web folder  i saw something in the framework to create a regular shortcut  but not a my network place shortcut to a file in a sharepoint site on our intranet.    i found a kludge  but it doesn t always work for all folder names  not sure where it is failing. the kludge reverse engineers an existing shortcut rather than using a function for this purpose  if one exists.\n",
      "\n",
      "Prediction: 'php'\n",
      "Tag:        '.net'\n",
      "\n",
      "--------------------------------------------------\n",
      "\n",
      "\n",
      "Post: how to create rss feed for a website   i developed a webapplication now i want to create rss feeds for my website. in my application i have a module call film news  which contain the latest news of the film stars. now i want to create rss feeds for that module. the news contains title and description. how can i create rss feeds for my application\n",
      "\n",
      "Prediction: 'php'\n",
      "Tag:        'asp.net'\n",
      "\n",
      "--------------------------------------------------\n",
      "\n",
      "\n",
      "Post: difference between this two condition  what is difference in this two condition   <pre><code>return convert.toint32(cmd.executescalar()) == 1   true : false;  return res =! 0   true:false;  return convert.toint32(cmd.executescalar()) &gt; 0   true : false; </code></pre>   what is difference in this three condition when i check the existence of information in the table [mysql]\n",
      "\n",
      "Prediction: 'mysql'\n",
      "Tag:        'c#'\n",
      "\n",
      "--------------------------------------------------\n",
      "\n",
      "\n",
      "Post: what for need into anonymous function pass jquery object  <em>case with bootstrap:</em>    example code    <pre><code>function( $ ){  }( window.jquery ); </code></pre>\n",
      "\n",
      "Prediction: 'jquery'\n",
      "Tag:        'javascript'\n",
      "\n",
      "--------------------------------------------------\n",
      "\n",
      "\n",
      "Post: how to change the title of the searchbar cancel button in iphone sdk   i want to change the title of the search bar cancel button to offers .is there any method to change the title of the cancel button .    can any one giv me suggestions with sample code     anyone s help will be much appreciated.    thank you  monish.\n",
      "\n",
      "Prediction: 'iphone'\n",
      "Tag:        'objective-c'\n",
      "\n",
      "--------------------------------------------------\n",
      "\n",
      "\n",
      "Post: initializing custom properties in entity sub class  i am trying to initialize an array to an entity sub class of nsmanagedobject not nsobject class.     when i try to initialize the array i get an error    <blockquote>    unrecognized selector sent to instance.  </blockquote>   i am trying to initialize the array like this    <pre><code>entity.myarray = [[nsmutablearray alloc] init]; </code></pre>   how can i stop the error\n",
      "\n",
      "Prediction: 'ios'\n",
      "Tag:        'objective-c'\n",
      "\n",
      "--------------------------------------------------\n",
      "\n",
      "\n",
      "Post: iphone: call and send parameters to js function from obj-c  any idea how to call and send parameters to js function from obj-c       lets say in my html i have js   <blockquote>    function showpiechart (parameter1  parameter2) { ... }  </blockquote>   and from my obj c class in viewdidload i want to call this function. any idea or examples   thanks in advance...\n",
      "\n",
      "Prediction: 'ios'\n",
      "Tag:        'iphone'\n",
      "\n",
      "--------------------------------------------------\n",
      "\n",
      "\n"
     ]
    }
   ],
   "source": [
    "for post, prediction, tag in zip(posts_to_predict, predictions, tags_to_predict):\n",
    "    if prediction != tag:\n",
    "        print(f\"Post: {post}\\n\\nPrediction: '{prediction}'\\nTag:        '{tag}'\\n\")\n",
    "        print(\"-\"*50)\n",
    "        print(\"\\n\")\n"
   ]
  },
  {
   "cell_type": "markdown",
   "metadata": {},
   "source": [
    "# Find errors in training data\n",
    "\n",
    "In this section, I want to find the posts in the training data that are most often misclassified. Then, I can provide the LLM with more examples to improve its accuracy.\n"
   ]
  },
  {
   "cell_type": "code",
   "execution_count": 185,
   "metadata": {},
   "outputs": [],
   "source": [
    "import random\n",
    "\n",
    "N_PREDICTIONS = min(100, len(df_train))\n",
    "\n",
    "# i want to find N_PREDICTIONS random posts in the training data, that are not in the training examples\n",
    "\n",
    "# Get the posts from the training examples\n",
    "training_example_posts = [example[0] for example in training_examples]\n",
    "\n",
    "# Find posts in df_train that are not in training examples\n",
    "new_posts = [post for post in df_train[\"post\"].tolist() if post not in training_example_posts]\n",
    "\n",
    "# Randomly select N_PREDICTIONS posts from new_posts\n",
    "selected_posts = random.sample(new_posts, N_PREDICTIONS)\n",
    "\n",
    "# Get the corresponding tags for the selected posts\n",
    "selected_tags = [df_train[df_train[\"post\"] == post][\"tags\"].iloc[0] for post in selected_posts]\n",
    "\n",
    "\n",
    "assert not any(post in training_example_posts for post in selected_posts)"
   ]
  },
  {
   "cell_type": "code",
   "execution_count": 187,
   "metadata": {},
   "outputs": [
    {
     "name": "stdout",
     "output_type": "stream",
     "text": [
      "['sql', 'ios', '.net', 'objective-c', 'javascript', 'c++', '.net', 'ios', 'html', 'java', 'iphone', 'c++', 'javascript', 'php', 'sql', 'iphone', 'mysql', 'mysql', 'html', 'sql', 'jquery', 'android', 'angularjs', 'c#', 'c++', 'android', 'c++', 'c++', 'mysql', 'ios', 'ios', 'iphone', 'mysql', 'html', 'sql', 'python', 'php', 'sql', 'javascript', 'ios', 'python', 'objective-c', 'iphone', 'sql', '.net', 'css', 'android', 'java', 'ios', 'ios', 'android', 'ios', 'css', 'objective-c', 'mysql', 'mysql', 'html', 'ruby-on-rails', 'c++', 'javascript', 'iphone', 'jquery', 'php', 'css', '.net', 'ios', 'angularjs', 'angularjs', 'html', 'objective-c', 'objective-c', 'jquery', 'c++', 'android', 'jquery', 'c#', 'android', 'android', 'c++', 'sql', 'ruby-on-rails', 'c++', 'mysql', 'c', 'ios', '.net', 'ruby-on-rails', 'c', 'php', 'android', '.net', 'mysql', '.net', 'javascript', 'php', 'objective-c', 'ios', 'html', 'c++', 'angularjs']\n"
     ]
    }
   ],
   "source": [
    "predictions = chain.batch(selected_posts)\n",
    "\n",
    "print(predictions)"
   ]
  },
  {
   "cell_type": "code",
   "execution_count": 188,
   "metadata": {},
   "outputs": [
    {
     "name": "stdout",
     "output_type": "stream",
     "text": [
      "There are 17 errors in the training data.\n",
      "Post: how to display annotation view without clicking on pin in mapview   i have implemented one map application in which i have display pin animation for current location.when i click on the pin at that time annotation view will open. but i want to display annotation view without clicking on pin.is it possible if possible then please give me idea about that.    thanks in advance.\n",
      "\n",
      "Prediction: 'ios'\n",
      "Tag:        'iphone'\n",
      "\n",
      "--------------------------------------------------\n",
      "\n",
      "\n",
      "Post: cannot connect to honeywell sl22 captuvo hardware  i m just getting started with honeywell captuvo sl22 and ipod touch. i have successfully built and deployed the two included sample sdk apps (sdktestsample and mpos) on the device and they both work flawlessly. i am now trying to create my first simple test of the device but i am getting stuck trying to make the initial connection to the scanner hardware. i am using :    xcode 6.1 sdk 2.19.742.xxxxx firmware rev 45.12    i am deploying app directly to 5th gen ipod running ios 7.0.4 and then running inserted into  sled.    here is the code. problem in my simple app is that connectionstatus always returns protocolconnectionstatusunabletoconnect so i can t go any further until i get this resolved.    firmware version read by app is displayed correctly.     any ideas     <pre><code>// //  viewcontroller.m //  buttontest // //  #import  viewcontroller.h  #import  captuvo.h   @interface viewcontroller ()  @end  @implementation viewcontroller  @synthesize label1; @synthesize label2;  - (void)viewdidload {     [super viewdidload];     // do any additional setup after loading the view  typically from a nib.      nsstring *firmwareversion = @ 0.0 ;     int connectionstatus;      firmwareversion = [[captuvo sharedcaptuvodevice]  getcaptuvofirmwarerevision];     label1.text = firmwareversion;       label2.text = @ captuvo status ;      connectionstatus = [[captuvo sharedcaptuvodevice]  startdecoderhardware];      switch (connectionstatus) {         case protocolconnectionstatusconnected:         case protocolconnectionstatusalreadyconnected:             nslog(@ connected! );             label2.text = @ sled connected ;             break;         case protocolconnectionstatusbatterydepleted:             nslog(@ battery depleted! );             label2.text = @ battery depleted! ;             break;         case protocolconnectionstatusunabletoconnect:             nslog(@ error connecting! );             label2.text = @ error connecting! ;             break;         case protocolconnectionstatusunabletoconnectincompatiablesledfirmware:             nslog(@ incompatible firmware! );             label2.text = @ incompatible firmware! ;             break;         default:             break;     }    } </code></pre>\n",
      "\n",
      "Prediction: 'iphone'\n",
      "Tag:        'ios'\n",
      "\n",
      "--------------------------------------------------\n",
      "\n",
      "\n",
      "Post: multiple buttons that redirect to different location  i have four buttons in a form when i click each button it should direct me to  its data. i have tried to write the onclick direct to the page but nothing is happening. do i need a script to activate that or what preferably javascript\n",
      "\n",
      "Prediction: 'javascript'\n",
      "Tag:        'html'\n",
      "\n",
      "--------------------------------------------------\n",
      "\n",
      "\n",
      "Post: image thumbnail with file input type  i needed to have a thumbnail to appear alongside the file upload button (the browse button while using file input type..i have used the code below but the issue is that the code doesnt work in chrome and safari but works fine in mozilla and ie...    js:   <pre><code>&lt;script type= text/javascript &gt;     function setimage(file) {         if(document.all)             document.getelementbyid( previmage ).src = file.value;         else             document.getelementbyid( previmage ).src = file.files.item(0).getasdataurl();         if(document.getelementbyid( previmage ).src.length &gt; 0)              document.getelementbyid( previmage ).style.display =  block ;     } &lt;/script&gt; </code></pre>   html:   <pre><code>&lt;div class= uploading_block_inner &gt;                                 &lt;div class= uploaded_img_inner &gt;&lt;img id= previmage  style= display:none;  width= 91  height= 91  /&gt;&lt;/div&gt;                                 &lt;div class= submit_button_upload &gt;                                     &lt;div class= upload &gt;&lt;input type= file  id=    name= myimage  onchange= loadname(this);  style= filter:alpha(opacity=0)  /&gt;&lt;/div&gt;                                 &lt;/div&gt;                                 &lt;div class= upload_submit_inner &gt;&lt;input type= submit  name=   value=   /&gt;&lt;/div&gt;                                                          &lt;/div&gt; </code></pre>\n",
      "\n",
      "Prediction: 'html'\n",
      "Tag:        'javascript'\n",
      "\n",
      "--------------------------------------------------\n",
      "\n",
      "\n",
      "Post: c: switch pointers to integers  i want to write a method which takes two pointers to ints and changes the values they point to. something like:   <pre><code>int main() {     int a = 3;     int b = 1;     change(&amp;a  &amp;b);     return 0; }  void change(int *a  int *b) {     int t = a;     *a = *b;     *b = *t; } </code></pre>   i have a problem understanding how to save a copy of <code>a</code> and point to it from <code>b</code> later.\n",
      "\n",
      "Prediction: 'c++'\n",
      "Tag:        'c'\n",
      "\n",
      "--------------------------------------------------\n",
      "\n",
      "\n",
      "Post: simple c evaluation is turning out wrong  i am stuck with a simple thing but unable to explain the reason for it.  example code scenario is      <pre><code>int e = 0x0000a8e7; int t = 0xffffffff; </code></pre>   <code>if (e &lt; t)</code> is evaluating to false. clearly <code>e</code> is +ve and <code>t</code> is -1 and hence <code>e &lt; t</code> should evaluate to false. why is it still turning to be true. any ideas      thanks\n",
      "\n",
      "Prediction: 'c++'\n",
      "Tag:        'c'\n",
      "\n",
      "--------------------------------------------------\n",
      "\n",
      "\n",
      "Post: sql function to base64 encode an image directly   im wondering if there is an sql function that i can use in a query that will convert an image to a base64 encoded image  i then want to store it as a long blob.    i am aware of the php function for encoding an image but i m curious if a similar function exists in sql\n",
      "\n",
      "Prediction: 'mysql'\n",
      "Tag:        'sql'\n",
      "\n",
      "--------------------------------------------------\n",
      "\n",
      "\n",
      "Post: image caching problem  i am storing the image taken from uiimagepickercontroller and saving in the directory like:   <pre><code>nsarray *paths = nssearchpathfordirectoriesindomains(nsdocumentdirectory                                                       nsuserdomainmask  yes); nsstring *path = [nsstring stringwithformat:@ %@/%@                     [paths objectatindex:0]  1.jpg]; [imgdata writetofile:path atomically:yes]; </code></pre>   when iam retrieving the image from the path and display in tableview it work for 1 or 2 times then application crash and error occurs is  memory urgent   also used code for retrieving image in uiimageview like [uiimage imagewithcontentsoffile:path] but not working help. so how to handle the image caching\n",
      "\n",
      "Prediction: 'ios'\n",
      "Tag:        'iphone'\n",
      "\n",
      "--------------------------------------------------\n",
      "\n",
      "\n",
      "Post: where can we find the gdata.framework for iphone in iphone sdk   can anyone suggest me where can i find the gdata.framework with steps.    anyone s help will be much appreciated.    thanks to all  monish.\n",
      "\n",
      "Prediction: 'iphone'\n",
      "Tag:        'objective-c'\n",
      "\n",
      "--------------------------------------------------\n",
      "\n",
      "\n",
      "Post: uitabbarcontroller and access commonly-used functions via protocol  i always use uiviewcontroller(as rootviewcontroller) to switch the view of 3 different uiviewcontrollers. there are some commonly-used  functions in the rootviewcontroller. i setup the protocol for the 3 different uiviewcontrollers to access. the actual function body codes are in rootviewcontroller.m if i want to call these function  i just need to write codes below in anyone of 3 uiviewcontroller to call the function  afunction  in rootviewcontroller.m   <pre><code>[mydelegate afunction]; </code></pre>   now  i hope to use uitabbarcontroller(as rootcontroller) to switch the view of 3 different uiviewcontrollers. i still hope to keep the mode above that store the commonly-used functions in the place where all 3 uiviewcontrollers can access via protocol.    where do these function codes need to be writen to     i can not find out the source codes body for uitabbarcontroller. (rootviewcontroller has the codes body rootviewcontroller.m)    welcome any comment    thanks    interdev\n",
      "\n",
      "Prediction: 'ios'\n",
      "Tag:        'iphone'\n",
      "\n",
      "--------------------------------------------------\n",
      "\n",
      "\n",
      "Post: which method is called when i return from navigation   i want to do something when i push back button of navigation bar. in which method do i have to do that  viewdidunload is not called. do i have to do that in dealloc method\n",
      "\n",
      "Prediction: 'objective-c'\n",
      "Tag:        'iphone'\n",
      "\n",
      "--------------------------------------------------\n",
      "\n",
      "\n",
      "  what i want to do:    <img src= https://i.imgur.com/usedwjd.png  alt= img > the img always staying to the left and that red content never moving to the left of the image    it looks like your post is mostly code; please add some more details.\n",
      "\n",
      "Prediction: 'css'\n",
      "Tag:        'html'\n",
      "\n",
      "--------------------------------------------------\n",
      "\n",
      "\n",
      "Post: nsurldownload resumedata nil  i ve written an download tool. it s working fine with nsurldownload. but when it comes to resuming downloads i have some problems. the resumedata is always nil! when i download the same files with jdownloader  stop the download and resume again  jdownloader resumes the download! so is is possible with this files and the server!    code:   <pre><code>- (void)startdownload {     status = @ loading ;     nsurlrequest *therequest = [nsurlrequest requestwithurl:[nsurl urlwithstring:url] cachepolicy:nsurlrequestuseprotocolcachepolicy timeoutinterval:60.0];      urldownload = [[nsurldownload alloc] initwithrequest:therequest delegate:self];     [urldownload setdeletesfileuponfailure:no];      if (!urldownload) {         [self error:@ failed starting download request! ];     } } </code></pre>   test:   <pre><code>- (ibaction)stopwithresumeoption:(id)sender {     [urldownload cancel];     nsdata *tempdata = [urldownload resumedata];      nslog(@ %@  tempdata); } </code></pre>   if i stop the download while loading with  stopwithresumeoption  i get always nil! am i missing something !    edit:    what info does the resumedata return at all  if it is only the length of the already downloaded data or something  maybe i can create this resumedata by myself ! anyone tried this before     edit 2:    here is the response header of one file i m trying to resume:   <pre><code>{      accept-ranges  = bytes;      cache-control  =  max-age=0 ;     connection =  keep-alive ;      content-length  = 43346723;      content-type  =  application/pdf ;     date =  sun  13 mar 2011 13:08:44 gmt ;     etag = 1185n;     pragma = public;     server = dbws;      x-robots-tag  =  noindex nofollow ; } </code></pre>   even an etag is provided by the server!    is there a chance to do it this way:   <pre><code>- (ibaction) resume:(id)sender {     nsmutableurlrequest *request = [nsmutableurlrequest requestwithurl:[nsurl urlwithstring:url] cachepolicy:nsurlrequestuseprotocolcachepolicy timeoutinterval:60.0];     nsstring *authheader = [nsstring stringwithformat:@ bytes=%llu-%llu  bytesreceived  totalbytestoload];      [request addvalue:authheader forhttpheaderfield:@ range ];        urldownload = [[nsurldownload alloc] initwithrequest:request delegate:self]; } </code></pre>   but i m not sure how to go on with this try...\n",
      "\n",
      "Prediction: 'ios'\n",
      "Tag:        'objective-c'\n",
      "\n",
      "--------------------------------------------------\n",
      "\n",
      "\n",
      "Post: isn t const supposed to be constant   check out this code   <pre><code>#include&lt;stdio.h&gt;  int main() {   const int a=7;  int *p=&amp;a;  (*p)++;  printf( *p=%d\\np=%u\\na=%d\\n&amp;a%u  *p p a &amp;a);  getch(); } </code></pre>   the output you get for this is    <pre><code>*p=8 p=1245064 a=8 &amp;a1245064 </code></pre>   how is this possible   we declared variable a as constant. doesnt this mean that the location pointed to by a can never be changed during the course of pgm execution\n",
      "\n",
      "Prediction: 'c++'\n",
      "Tag:        'c'\n",
      "\n",
      "--------------------------------------------------\n",
      "\n",
      "\n",
      "Post: how to make a ship stop moving when out of bounds   i am having trouble with this code  if someone could point me in the right direction i would be very grateful. have been stuck on it for days!!    basically i am trying to stop the ship from moving once it reaches the boundary. boundary is 6 and -6.    here is the code. thanks :)   <pre><code>public void move (int direction) //if position exceeds 5 then playership will                                   //no long move in that direction. {     if (position &gt; 5)     {         ....    what to write here       }     else if (position &lt; -5)     {         ....    what to write here       }      position = position + direction;     gun1.move(direction);     gun2.move(direction);  } </code></pre>\n",
      "\n",
      "Prediction: 'c#'\n",
      "Tag:        'java'\n",
      "\n",
      "--------------------------------------------------\n",
      "\n",
      "\n",
      "Post: removed splash screen still appears in my app  please i make a project under xcode with a splash screen (default.png). then  i created new project and i didn t put on it a splash screen  but when i execute it i see this default.png still appear which i don t want  i deleted the old project to make sure but it still there  help please.\n",
      "\n",
      "Prediction: 'ios'\n",
      "Tag:        'iphone'\n",
      "\n",
      "--------------------------------------------------\n",
      "\n",
      "\n",
      "Post: string is a class and cannot be used as an expression  i typed the following in visual studio 2010 express  it is a sample windows app for navigating to a uri in the web browser:   <pre><code>private sub button1_click(sender as system.object  e as routedeventargs) string site = textbox1.text. </code></pre>   i get an error:   <blockquote>    string is a class type and cannot be used as an expression visual studio 2010 express  </blockquote>   the source can be found at    <a href= http://msdn.microsoft.com/en-us/library/ff402526(v=vs.92).aspx  rel= nofollow >http://msdn.microsoft.com/en-us/library/ff402526(v=vs.92).aspx</a>\n",
      "\n",
      "Prediction: '.net'\n",
      "Tag:        'c#'\n",
      "\n",
      "--------------------------------------------------\n",
      "\n",
      "\n"
     ]
    }
   ],
   "source": [
    "### Find errors\n",
    "errors = [\n",
    "    (post, prediction, tag)\n",
    "    for post, prediction, tag in zip(selected_posts, predictions, selected_tags)\n",
    "    if prediction != tag\n",
    "]\n",
    "\n",
    "print(f\"There are {len(errors)} errors in the training data.\")\n",
    "\n",
    "# show the errors\n",
    "for post, prediction, tag in errors:\n",
    "    print(f\"Post: {post}\\n\\nPrediction: '{prediction}'\\nTag:        '{tag}'\\n\")\n",
    "    print(\"-\"*50)\n",
    "    print(\"\\n\")\n"
   ]
  },
  {
   "cell_type": "code",
   "execution_count": 191,
   "metadata": {},
   "outputs": [
    {
     "name": "stdout",
     "output_type": "stream",
     "text": [
      "Tag: c#\n",
      "There are 1 errors for this tag.\n",
      "Most often predicted tags:\n",
      ".net    1\n",
      "Name: count, dtype: int64\n",
      "--------------------------------------------------\n",
      "\n",
      "\n",
      "Tag: asp.net\n",
      "There are 0 errors for this tag.\n",
      "Most often predicted tags:\n",
      "Series([], Name: count, dtype: int64)\n",
      "--------------------------------------------------\n",
      "\n",
      "\n",
      "Tag: objective-c\n",
      "There are 2 errors for this tag.\n",
      "Most often predicted tags:\n",
      "iphone    1\n",
      "ios       1\n",
      "Name: count, dtype: int64\n",
      "--------------------------------------------------\n",
      "\n",
      "\n",
      "Tag: .net\n",
      "There are 0 errors for this tag.\n",
      "Most often predicted tags:\n",
      "Series([], Name: count, dtype: int64)\n",
      "--------------------------------------------------\n",
      "\n",
      "\n",
      "Tag: python\n",
      "There are 0 errors for this tag.\n",
      "Most often predicted tags:\n",
      "Series([], Name: count, dtype: int64)\n",
      "--------------------------------------------------\n",
      "\n",
      "\n",
      "Tag: angularjs\n",
      "There are 0 errors for this tag.\n",
      "Most often predicted tags:\n",
      "Series([], Name: count, dtype: int64)\n",
      "--------------------------------------------------\n",
      "\n",
      "\n",
      "Tag: iphone\n",
      "There are 5 errors for this tag.\n",
      "Most often predicted tags:\n",
      "ios            4\n",
      "objective-c    1\n",
      "Name: count, dtype: int64\n",
      "--------------------------------------------------\n",
      "\n",
      "\n",
      "Tag: ruby-on-rails\n",
      "There are 0 errors for this tag.\n",
      "Most often predicted tags:\n",
      "Series([], Name: count, dtype: int64)\n",
      "--------------------------------------------------\n",
      "\n",
      "\n",
      "Tag: ios\n",
      "There are 1 errors for this tag.\n",
      "Most often predicted tags:\n",
      "iphone    1\n",
      "Name: count, dtype: int64\n",
      "--------------------------------------------------\n",
      "\n",
      "\n",
      "Tag: c\n",
      "There are 3 errors for this tag.\n",
      "Most often predicted tags:\n",
      "c++    3\n",
      "Name: count, dtype: int64\n",
      "--------------------------------------------------\n",
      "\n",
      "\n",
      "Tag: sql\n",
      "There are 1 errors for this tag.\n",
      "Most often predicted tags:\n",
      "mysql    1\n",
      "Name: count, dtype: int64\n",
      "--------------------------------------------------\n",
      "\n",
      "\n",
      "Tag: java\n",
      "There are 1 errors for this tag.\n",
      "Most often predicted tags:\n",
      "c#    1\n",
      "Name: count, dtype: int64\n",
      "--------------------------------------------------\n",
      "\n",
      "\n",
      "Tag: jquery\n",
      "There are 0 errors for this tag.\n",
      "Most often predicted tags:\n",
      "Series([], Name: count, dtype: int64)\n",
      "--------------------------------------------------\n",
      "\n",
      "\n",
      "Tag: css\n",
      "There are 0 errors for this tag.\n",
      "Most often predicted tags:\n",
      "Series([], Name: count, dtype: int64)\n",
      "--------------------------------------------------\n",
      "\n",
      "\n",
      "Tag: c++\n",
      "There are 0 errors for this tag.\n",
      "Most often predicted tags:\n",
      "Series([], Name: count, dtype: int64)\n",
      "--------------------------------------------------\n",
      "\n",
      "\n",
      "Tag: php\n",
      "There are 0 errors for this tag.\n",
      "Most often predicted tags:\n",
      "Series([], Name: count, dtype: int64)\n",
      "--------------------------------------------------\n",
      "\n",
      "\n",
      "Tag: android\n",
      "There are 0 errors for this tag.\n",
      "Most often predicted tags:\n",
      "Series([], Name: count, dtype: int64)\n",
      "--------------------------------------------------\n",
      "\n",
      "\n",
      "Tag: mysql\n",
      "There are 0 errors for this tag.\n",
      "Most often predicted tags:\n",
      "Series([], Name: count, dtype: int64)\n",
      "--------------------------------------------------\n",
      "\n",
      "\n",
      "Tag: javascript\n",
      "There are 1 errors for this tag.\n",
      "Most often predicted tags:\n",
      "html    1\n",
      "Name: count, dtype: int64\n",
      "--------------------------------------------------\n",
      "\n",
      "\n",
      "Tag: html\n",
      "There are 2 errors for this tag.\n",
      "Most often predicted tags:\n",
      "javascript    1\n",
      "css           1\n",
      "Name: count, dtype: int64\n",
      "--------------------------------------------------\n",
      "\n",
      "\n"
     ]
    }
   ],
   "source": [
    "# For each tag, get the prediction error\n",
    "\n",
    "for tag_ in TAGS:\n",
    "    errors_for_tag = [\n",
    "        (post, prediction, tag)\n",
    "        for post, prediction, tag in errors\n",
    "        if tag == tag_\n",
    "    ]\n",
    "    print(f\"Tag: {tag_}\")\n",
    "    print(f\"There are {len(errors_for_tag)} errors for this tag.\")\n",
    "    print(\"Most often predicted tags:\")\n",
    "    print(pd.Series([prediction for _, prediction, _ in errors_for_tag]).value_counts().head(5))\n",
    "    print(\"-\"*50)\n",
    "    print(\"\\n\")\n"
   ]
  },
  {
   "cell_type": "code",
   "execution_count": 192,
   "metadata": {},
   "outputs": [],
   "source": [
    "# Now we want to store these posts in a file, one per line, so we can use them as examples for the LLM\n",
    "\n",
    "import json\n",
    "\n",
    "posts_and_tags = [(post, tag) for post, _, tag in errors]\n",
    "\n",
    "\n",
    "\n",
    "# Append the posts and tags to the file\n",
    "with open(\"training_examples.jsonl\", \"a\") as f:\n",
    "    for post, tag in posts_and_tags:\n",
    "        f.write(json.dumps({\"post\": post, \"tag\": tag}) + \"\\n\")\n",
    "\n"
   ]
  },
  {
   "cell_type": "markdown",
   "metadata": {},
   "source": [
    "### With tool use (not useful)\n",
    "\n",
    "In this section, I force the LLM to output a valid tag using a tool call. \n",
    "\n",
    "But in the end, it's not very useful and in the end I use a fuzzy match to correct some rare mistakes (see `fuzzy_output_parser`)"
   ]
  },
  {
   "cell_type": "code",
   "execution_count": 47,
   "metadata": {},
   "outputs": [
    {
     "name": "stdout",
     "output_type": "stream",
     "text": [
      "Note: you may need to restart the kernel to use updated packages.\n"
     ]
    }
   ],
   "source": [
    "%pip install -qU pydantic"
   ]
  },
  {
   "cell_type": "code",
   "execution_count": 87,
   "metadata": {},
   "outputs": [
    {
     "data": {
      "text/plain": [
       "Prediction(tag='python')"
      ]
     },
     "execution_count": 87,
     "metadata": {},
     "output_type": "execute_result"
    }
   ],
   "source": [
    "from pydantic import BaseModel\n",
    "from typing import Literal\n",
    "\n",
    "# an enum of the tags\n",
    "type Tag = Literal['c#', 'asp.net', 'objective-c', '.net', 'python', 'angularjs', 'iphone', 'ruby-on-rails', 'ios', 'c', 'sql', 'java', 'jquery', 'css', 'c++', 'php', 'android', 'mysql', 'javascript', 'html']\n",
    "\n",
    "\n",
    "class Prediction(BaseModel):\n",
    "    tag: Tag\n",
    "\n",
    "chain_with_tool = create_prompt_chain(training_examples[:3]) | PROMPT | gpt4o_mini.with_structured_output(Prediction)\n",
    "\n",
    "chain_with_tool.invoke(\"How do I install a package in python?\")\n"
   ]
  },
  {
   "cell_type": "code",
   "execution_count": 88,
   "metadata": {},
   "outputs": [
    {
     "name": "stdout",
     "output_type": "stream",
     "text": [
      "[Prediction(tag='c++'), Prediction(tag='php'), Prediction(tag='angularjs'), Prediction(tag='c++'), Prediction(tag='asp.net'), Prediction(tag='sql'), Prediction(tag='c++'), Prediction(tag='sql'), Prediction(tag='iphone'), Prediction(tag='php'), Prediction(tag='css'), Prediction(tag='angularjs'), Prediction(tag='java'), Prediction(tag='java'), Prediction(tag='jquery'), Prediction(tag='angularjs'), Prediction(tag='sql'), Prediction(tag='c#'), Prediction(tag='c#'), Prediction(tag='ios'), Prediction(tag='c'), Prediction(tag='c#'), Prediction(tag='mysql'), Prediction(tag='php'), Prediction(tag='sql'), Prediction(tag='iphone'), Prediction(tag='sql'), Prediction(tag='ios'), Prediction(tag='asp.net'), Prediction(tag='c#'), Prediction(tag='ruby-on-rails'), Prediction(tag='java'), Prediction(tag='jquery'), Prediction(tag='.net'), Prediction(tag='java'), Prediction(tag='python'), Prediction(tag='asp.net'), Prediction(tag='c++'), Prediction(tag='.net'), Prediction(tag='python'), Prediction(tag='html'), Prediction(tag='java'), Prediction(tag='android'), Prediction(tag='python'), Prediction(tag='sql'), Prediction(tag='javascript'), Prediction(tag='javascript'), Prediction(tag='php'), Prediction(tag='css'), Prediction(tag='c++'), Prediction(tag='html'), Prediction(tag='c++'), Prediction(tag='java'), Prediction(tag='angularjs'), Prediction(tag='ios'), Prediction(tag='css'), Prediction(tag='javascript'), Prediction(tag='ruby-on-rails'), Prediction(tag='ios'), Prediction(tag='angularjs'), Prediction(tag='c++'), Prediction(tag='jquery'), Prediction(tag='objective-c'), Prediction(tag='.net'), Prediction(tag='android'), Prediction(tag='c#'), Prediction(tag='javascript'), Prediction(tag='ios'), Prediction(tag='jquery'), Prediction(tag='c#'), Prediction(tag='mysql'), Prediction(tag='c'), Prediction(tag='c#'), Prediction(tag='c#'), Prediction(tag='iphone'), Prediction(tag='java'), Prediction(tag='angularjs'), Prediction(tag='c++'), Prediction(tag='ruby-on-rails'), Prediction(tag='c++'), Prediction(tag='mysql'), Prediction(tag='iphone'), Prediction(tag='css'), Prediction(tag='javascript'), Prediction(tag='c++'), Prediction(tag='objective-c'), Prediction(tag='sql'), Prediction(tag='python'), Prediction(tag='c'), Prediction(tag='iphone'), Prediction(tag='android'), Prediction(tag='ios'), Prediction(tag='mysql'), Prediction(tag='php'), Prediction(tag='java'), Prediction(tag='android'), Prediction(tag='.net'), Prediction(tag='css'), Prediction(tag='javascript'), Prediction(tag='iphone')]\n"
     ]
    }
   ],
   "source": [
    "# batch 100 predictions\n",
    "\n",
    "# predictions_with_tool = chain_with_tool.batch(posts_to_predict)\n",
    "\n",
    "print(predictions_with_tool)"
   ]
  },
  {
   "cell_type": "markdown",
   "metadata": {},
   "source": [
    "### Compute the accuracy"
   ]
  },
  {
   "cell_type": "code",
   "execution_count": 92,
   "metadata": {},
   "outputs": [
    {
     "name": "stdout",
     "output_type": "stream",
     "text": [
      "88/100 = 0.88\n"
     ]
    }
   ],
   "source": [
    "correct = sum(1 for prediction, tag in zip(predictions_with_tool, tags_to_predict) if prediction.tag == tag)\n",
    "\n",
    "print(f\"{correct}/{N_PREDICTIONS} = {correct / N_PREDICTIONS}\")"
   ]
  }
 ],
 "metadata": {
  "kernelspec": {
   "display_name": "Python 3",
   "language": "python",
   "name": "python3"
  },
  "language_info": {
   "codemirror_mode": {
    "name": "ipython",
    "version": 3
   },
   "file_extension": ".py",
   "mimetype": "text/x-python",
   "name": "python",
   "nbconvert_exporter": "python",
   "pygments_lexer": "ipython3",
   "version": "3.12.6"
  }
 },
 "nbformat": 4,
 "nbformat_minor": 2
}
